{
 "cells": [
  {
   "cell_type": "code",
   "execution_count": 1,
   "id": "54dd1592-3e12-481f-99b0-2ec4f0921c14",
   "metadata": {},
   "outputs": [
    {
     "name": "stdout",
     "output_type": "stream",
     "text": [
      "Mohammad\n"
     ]
    }
   ],
   "source": [
    "print(\"Mohammad\")"
   ]
  },
  {
   "cell_type": "code",
   "execution_count": 2,
   "id": "7220584a-20a1-46ee-b732-12271a5f3d0b",
   "metadata": {},
   "outputs": [],
   "source": [
    "import numpy as np\n"
   ]
  },
  {
   "cell_type": "code",
   "execution_count": 4,
   "id": "1f4f6d73-6b0b-43b8-914f-254a81e2286b",
   "metadata": {},
   "outputs": [
    {
     "name": "stdout",
     "output_type": "stream",
     "text": [
      "10 \n",
      " number ndim: 0\n"
     ]
    }
   ],
   "source": [
    "number_1 = np.array(10)\n",
    "number_1_ndim = number_1.ndim\n",
    "print(number_1,\"\\n\",\"number ndim:\",number_1_ndim)"
   ]
  },
  {
   "cell_type": "code",
   "execution_count": 6,
   "id": "e3ebba7b-1343-4c02-bbf1-89300a5c51d0",
   "metadata": {},
   "outputs": [
    {
     "name": "stdout",
     "output_type": "stream",
     "text": [
      "[1 2 3 4 5 6] \n",
      " number ndim: 1\n"
     ]
    }
   ],
   "source": [
    "number_2 = np.array([1,2,3,4,5,6,] )\n",
    "number_2_ndim = number_2.ndim\n",
    "print(number_2,\"\\n\",\"number ndim:\",number_2_ndim)"
   ]
  },
  {
   "cell_type": "code",
   "execution_count": 8,
   "id": "b65bed71-3b78-45e8-a6db-eda3d36de86c",
   "metadata": {},
   "outputs": [
    {
     "name": "stdout",
     "output_type": "stream",
     "text": [
      "[[6 5 4]\n",
      " [3 2 1]] \n",
      " number ndim: 2\n"
     ]
    }
   ],
   "source": [
    "number_3 = np.array([[6,5,4],[3,2,1,]])\n",
    "number_3_ndim = number_3.ndim\n",
    "print(number_3,\"\\n\",\"number ndim:\",number_3_ndim)"
   ]
  },
  {
   "cell_type": "code",
   "execution_count": 9,
   "id": "da84aa17-f10e-4d5c-a8dc-8d964e420d18",
   "metadata": {},
   "outputs": [
    {
     "name": "stdout",
     "output_type": "stream",
     "text": [
      "[[[ 7  8  9]\n",
      "  [10 11 12]\n",
      "  [13 14 15]]] \n",
      " number ndim: 3\n"
     ]
    }
   ],
   "source": [
    "number_4 = np.array([[[7,8,9],[10,11,12],[13,14,15]]])\n",
    "number_4_ndim = number_4.ndim\n",
    "print(number_4,\"\\n\",\"number ndim:\",number_4_ndim)"
   ]
  },
  {
   "cell_type": "code",
   "execution_count": 10,
   "id": "4c06636f-57ea-4eb3-a15d-dff20f1c8cbc",
   "metadata": {},
   "outputs": [
    {
     "name": "stdout",
     "output_type": "stream",
     "text": [
      "[[[[16 17 18]\n",
      "   [19 20 21]\n",
      "   [22 23 24]\n",
      "   [25 26 27]]]] \n",
      " number ndim: 4\n"
     ]
    }
   ],
   "source": [
    "number_5 = np.array([[[[16,17,18],[19,20,21],[22,23,24],[25,26,27]]]])\n",
    "number_5_ndim = number_5.ndim\n",
    "print(number_5,\"\\n\",\"number ndim:\",number_5_ndim)"
   ]
  },
  {
   "cell_type": "code",
   "execution_count": 11,
   "id": "2d61c817-639b-46de-95bd-612b8186fe35",
   "metadata": {},
   "outputs": [
    {
     "name": "stdout",
     "output_type": "stream",
     "text": [
      "[[[[[28 29 30]\n",
      "    [31 32 33]\n",
      "    [34 35 36]\n",
      "    [37 38 39]\n",
      "    [40 41 42]]]]] \n",
      " number ndim: 5\n"
     ]
    }
   ],
   "source": [
    "number_6 = np.array([[[[[28,29,30],[31,32,33],[34,35,36],[37,38,39],[40,41,42]]]]])\n",
    "number_6_ndim = number_6.ndim\n",
    "print(number_6,\"\\n\",\"number ndim:\",number_6_ndim)"
   ]
  },
  {
   "cell_type": "code",
   "execution_count": 12,
   "id": "661c0ef0-507c-4ef4-a944-0d7227818d5b",
   "metadata": {},
   "outputs": [
    {
     "data": {
      "text/plain": [
       "array([1, 2, 3])"
      ]
     },
     "execution_count": 12,
     "metadata": {},
     "output_type": "execute_result"
    }
   ],
   "source": [
    "number_7 = np.array([1,2,3],ndmin = 1)\n",
    "number_7"
   ]
  },
  {
   "cell_type": "code",
   "execution_count": 13,
   "id": "32951b4b-c7cc-4f33-85c1-28f8837e1745",
   "metadata": {},
   "outputs": [
    {
     "data": {
      "text/plain": [
       "array([[4, 5, 6]])"
      ]
     },
     "execution_count": 13,
     "metadata": {},
     "output_type": "execute_result"
    }
   ],
   "source": [
    "number_8 = np.array([4,5,6],ndmin = 2)\n",
    "number_8"
   ]
  },
  {
   "cell_type": "code",
   "execution_count": 14,
   "id": "42f5e7cf-9bdb-4886-8fd9-729c2400fa97",
   "metadata": {},
   "outputs": [
    {
     "data": {
      "text/plain": [
       "array([[[[[[[[[[[[[[[7, 8, 9]]]]]]]]]]]]]]])"
      ]
     },
     "execution_count": 14,
     "metadata": {},
     "output_type": "execute_result"
    }
   ],
   "source": [
    "number_9 = np.array([7,8,9],ndmin = 15)\n",
    "number_9"
   ]
  },
  {
   "cell_type": "code",
   "execution_count": null,
   "id": "e4c94a28-1327-4e2b-8582-d2a420634deb",
   "metadata": {},
   "outputs": [],
   "source": []
  }
 ],
 "metadata": {
  "kernelspec": {
   "display_name": "Python 3 (ipykernel)",
   "language": "python",
   "name": "python3"
  },
  "language_info": {
   "codemirror_mode": {
    "name": "ipython",
    "version": 3
   },
   "file_extension": ".py",
   "mimetype": "text/x-python",
   "name": "python",
   "nbconvert_exporter": "python",
   "pygments_lexer": "ipython3",
   "version": "3.10.10"
  }
 },
 "nbformat": 4,
 "nbformat_minor": 5
}
