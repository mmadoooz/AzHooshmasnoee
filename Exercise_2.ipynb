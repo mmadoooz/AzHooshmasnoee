{
 "cells": [
  {
   "cell_type": "code",
   "execution_count": 16,
   "id": "f8cae1eb-d16e-491c-bb13-584891c604f4",
   "metadata": {},
   "outputs": [
    {
     "name": "stdout",
     "output_type": "stream",
     "text": [
      "[1 2 3 4 5 6] \n",
      " number ndim: 1\n"
     ]
    }
   ],
   "source": [
    "import numpy as np\n",
    "number_1 = np.array([1,2,3,4,5,6,] )\n",
    "number_1_ndim = number_1.ndim\n",
    "print(number_1,\"\\n\",\"number ndim:\",number_1_ndim)"
   ]
  },
  {
   "cell_type": "code",
   "execution_count": 17,
   "id": "cf7575c6-5794-46c5-89b0-0ac6d3f1c2d9",
   "metadata": {},
   "outputs": [
    {
     "name": "stdout",
     "output_type": "stream",
     "text": [
      "[[6 5 4]\n",
      " [3 2 1]] \n",
      " number2 ndim: 2\n"
     ]
    }
   ],
   "source": [
    "number_2 = np.array([[6,5,4],[3,2,1,]])\n",
    "number_2_ndim = number_2.ndim\n",
    "print(number_2,\"\\n\",\"number2 ndim:\",number_2_ndim)"
   ]
  },
  {
   "cell_type": "code",
   "execution_count": 18,
   "id": "87e1951a-2d87-4a36-aa64-b3f71d48e603",
   "metadata": {},
   "outputs": [
    {
     "name": "stdout",
     "output_type": "stream",
     "text": [
      "[[[ 7  8  9]\n",
      "  [10 11 12]\n",
      "  [13 14 15]]] \n",
      " number3 ndim: 3\n"
     ]
    }
   ],
   "source": [
    "number_3 = np.array([[[7,8,9],[10,11,12],[13,14,15]]])\n",
    "number_3_ndim = number_3.ndim\n",
    "print(number_3,\"\\n\",\"number3 ndim:\",number_3_ndim)"
   ]
  },
  {
   "cell_type": "code",
   "execution_count": 19,
   "id": "b80a9f45-9a01-4842-8cc0-4b7f40cfff17",
   "metadata": {},
   "outputs": [
    {
     "name": "stdout",
     "output_type": "stream",
     "text": [
      "[[[[16 17 18]\n",
      "   [19 20 21]\n",
      "   [22 23 24]\n",
      "   [25 26 27]]]] \n",
      " number4 ndim: 4\n"
     ]
    }
   ],
   "source": [
    "number_4 = np.array([[[[16,17,18],[19,20,21],[22,23,24],[25,26,27]]]])\n",
    "number_4_ndim = number_4.ndim\n",
    "print(number_4,\"\\n\",\"number4 ndim:\",number_4_ndim)"
   ]
  },
  {
   "cell_type": "code",
   "execution_count": 20,
   "id": "d3a09aaf-ee47-4f51-a61e-61e7e68a8c8f",
   "metadata": {},
   "outputs": [
    {
     "name": "stdout",
     "output_type": "stream",
     "text": [
      "[[[[[28 29 30]\n",
      "    [31 32 33]\n",
      "    [34 35 36]\n",
      "    [37 38 39]\n",
      "    [40 41 42]]]]] \n",
      " number5 ndim: 5\n"
     ]
    }
   ],
   "source": [
    "number_5 = np.array([[[[[28,29,30],[31,32,33],[34,35,36],[37,38,39],[40,41,42]]]]])\n",
    "number_5_ndim = number_5.ndim\n",
    "print(number_5,\"\\n\",\"number5 ndim:\",number_5_ndim)"
   ]
  },
  {
   "cell_type": "code",
   "execution_count": 32,
   "id": "96d71adf-baf5-491a-85d3-9f1fb4cb4864",
   "metadata": {},
   "outputs": [
    {
     "data": {
      "text/plain": [
       "array([1, 2, 3])"
      ]
     },
     "execution_count": 32,
     "metadata": {},
     "output_type": "execute_result"
    }
   ],
   "source": [
    "number_6 = np.array([1,2,3],ndmin = 1)\n",
    "number_6"
   ]
  },
  {
   "cell_type": "code",
   "execution_count": 33,
   "id": "acecdbaa-95d3-430f-8db0-55676de2fa39",
   "metadata": {},
   "outputs": [
    {
     "data": {
      "text/plain": [
       "array([[4, 5, 6]])"
      ]
     },
     "execution_count": 33,
     "metadata": {},
     "output_type": "execute_result"
    }
   ],
   "source": [
    "number_7 = np.array([4,5,6],ndmin = 2)\n",
    "number_7"
   ]
  },
  {
   "cell_type": "code",
   "execution_count": 38,
   "id": "c6afd772-6ea6-4f1f-8955-139c16ce2c77",
   "metadata": {},
   "outputs": [
    {
     "data": {
      "text/plain": [
       "array([[[[[[[[[[[[[[[7, 8, 9]]]]]]]]]]]]]]])"
      ]
     },
     "execution_count": 38,
     "metadata": {},
     "output_type": "execute_result"
    }
   ],
   "source": [
    "number_8 = np.array([7,8,9],ndmin = 15)\n",
    "number_8"
   ]
  }
 ],
 "metadata": {
  "kernelspec": {
   "display_name": "Python 3 (ipykernel)",
   "language": "python",
   "name": "python3"
  },
  "language_info": {
   "codemirror_mode": {
    "name": "ipython",
    "version": 3
   },
   "file_extension": ".py",
   "mimetype": "text/x-python",
   "name": "python",
   "nbconvert_exporter": "python",
   "pygments_lexer": "ipython3",
   "version": "3.10.10"
  }
 },
 "nbformat": 4,
 "nbformat_minor": 5
}
