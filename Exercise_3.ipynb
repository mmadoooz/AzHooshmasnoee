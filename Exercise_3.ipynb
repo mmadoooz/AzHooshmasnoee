{
 "cells": [
  {
   "cell_type": "code",
   "execution_count": 2,
   "id": "a4982e87-43ca-4c21-a5f2-9e248e18bd04",
   "metadata": {},
   "outputs": [
    {
     "name": "stdout",
     "output_type": "stream",
     "text": [
      "[3 4 5 6 7]\n",
      "[3 5 7 9]\n",
      "[6 5 4 3 2]\n",
      "5\n",
      "[ 1  2  3  4  5  6  7  8  9 10]\n"
     ]
    }
   ],
   "source": [
    "import numpy as np\n",
    "# ایجاد یک ارایه و  اسلیس کردن آن \n",
    "arr = np.array([1, 2, 3, 4, 5, 6, 7, 8, 9, 10])\n",
    "\n",
    "print(arr[2:7])\n",
    "\n",
    "print(arr[2::2])\n",
    "\n",
    "print(arr[5:0:-1])\n",
    "\n",
    "print(arr[4])\n",
    "\n",
    "print(arr[:])"
   ]
  },
  {
   "cell_type": "code",
   "execution_count": 37,
   "id": "114f4488-b156-459e-baf2-46b22341ce1f",
   "metadata": {},
   "outputs": [
    {
     "name": "stdout",
     "output_type": "stream",
     "text": [
      "[[6 5 5 9 9 2 6 6 3 3]\n",
      " [2 6 7 8 2 8 5 2 1 8]\n",
      " [1 9 4 2 4 4 4 2 9 6]\n",
      " [4 8 3 2 8 9 2 1 4 2]\n",
      " [1 8 1 3 6 1 1 1 8 2]\n",
      " [7 5 5 6 1 7 6 8 6 9]\n",
      " [4 8 2 4 7 6 6 9 1 9]\n",
      " [5 9 8 6 5 2 9 7 9 4]\n",
      " [5 2 8 6 2 4 4 5 4 7]\n",
      " [9 1 5 6 4 5 7 9 9 3]]\n"
     ]
    }
   ],
   "source": [
    "# اجاد ماتریس 10*10 و بیرون کشیدن ماتریس های کوچکه در آن\n",
    "matrix = np.random.randint(1, 10, (10, 10))\n",
    "\n",
    "print(matrix)\n"
   ]
  },
  {
   "cell_type": "code",
   "execution_count": 42,
   "id": "9932b059-01a7-400b-a167-df993bd53ce7",
   "metadata": {},
   "outputs": [
    {
     "name": "stdout",
     "output_type": "stream",
     "text": [
      "[[6 5 5 9 9]\n",
      " [2 6 7 8 2]\n",
      " [1 9 4 2 4]\n",
      " [4 8 3 2 8]\n",
      " [1 8 1 3 6]]\n"
     ]
    }
   ],
   "source": [
    "print (matrix[0:5,0:5])"
   ]
  },
  {
   "cell_type": "code",
   "execution_count": 44,
   "id": "59a69548-5022-4f88-973d-ad336fda04d6",
   "metadata": {},
   "outputs": [
    {
     "name": "stdout",
     "output_type": "stream",
     "text": [
      "[[2 6 6 3 3]\n",
      " [8 5 2 1 8]\n",
      " [4 4 2 9 6]\n",
      " [9 2 1 4 2]\n",
      " [1 1 1 8 2]]\n"
     ]
    }
   ],
   "source": [
    "print (matrix[0:5,5:])"
   ]
  },
  {
   "cell_type": "code",
   "execution_count": 46,
   "id": "6d1439fd-3449-4cb2-b7dc-303de60f645b",
   "metadata": {},
   "outputs": [
    {
     "name": "stdout",
     "output_type": "stream",
     "text": [
      "[[7 5 5 6 1]\n",
      " [4 8 2 4 7]\n",
      " [5 9 8 6 5]\n",
      " [5 2 8 6 2]\n",
      " [9 1 5 6 4]]\n"
     ]
    }
   ],
   "source": [
    "print (matrix[5:,0:5])"
   ]
  },
  {
   "cell_type": "code",
   "execution_count": 48,
   "id": "55e87a2e-1425-403d-a66f-3402995bfe75",
   "metadata": {},
   "outputs": [
    {
     "name": "stdout",
     "output_type": "stream",
     "text": [
      "[[7 6 8 6 9]\n",
      " [6 6 9 1 9]\n",
      " [2 9 7 9 4]\n",
      " [4 4 5 4 7]\n",
      " [5 7 9 9 3]]\n"
     ]
    }
   ],
   "source": [
    "print (matrix[5:,5:])"
   ]
  },
  {
   "cell_type": "code",
   "execution_count": 50,
   "id": "d5bfd7ad-753e-4f32-a8ec-e1ec536de99d",
   "metadata": {},
   "outputs": [
    {
     "name": "stdout",
     "output_type": "stream",
     "text": [
      "[[4 2 4 4 4]\n",
      " [3 2 8 9 2]\n",
      " [1 3 6 1 1]\n",
      " [5 6 1 7 6]\n",
      " [2 4 7 6 6]]\n"
     ]
    }
   ],
   "source": [
    "print (matrix[2:7,2:7])"
   ]
  },
  {
   "cell_type": "code",
   "execution_count": 51,
   "id": "b3ebd7b1-5560-4379-a581-2b8c43f9cf44",
   "metadata": {},
   "outputs": [
    {
     "name": "stdout",
     "output_type": "stream",
     "text": [
      "[[65 30 89 ...  1 42 48]\n",
      " [88 81 86 ... 58 10 59]\n",
      " [10 70 62 ... 38 67 78]\n",
      " ...\n",
      " [81 14 37 ... 89 64 90]\n",
      " [60 40 24 ... 49 26  2]\n",
      " [76  6 13 ... 76 81 19]]\n"
     ]
    }
   ],
   "source": [
    "#ایجاد ماتریس 1000*1000 بصورت خودکار\n",
    "matrix = np.random.randint(1, 100, (1000, 1000))\n",
    "print(matrix)"
   ]
  },
  {
   "cell_type": "code",
   "execution_count": null,
   "id": "685e1a23-332d-4099-90b5-4b402a457aef",
   "metadata": {},
   "outputs": [],
   "source": []
  }
 ],
 "metadata": {
  "kernelspec": {
   "display_name": "Python 3 (ipykernel)",
   "language": "python",
   "name": "python3"
  },
  "language_info": {
   "codemirror_mode": {
    "name": "ipython",
    "version": 3
   },
   "file_extension": ".py",
   "mimetype": "text/x-python",
   "name": "python",
   "nbconvert_exporter": "python",
   "pygments_lexer": "ipython3",
   "version": "3.10.10"
  }
 },
 "nbformat": 4,
 "nbformat_minor": 5
}
